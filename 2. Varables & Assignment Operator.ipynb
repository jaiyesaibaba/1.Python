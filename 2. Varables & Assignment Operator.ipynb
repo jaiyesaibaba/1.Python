{
 "cells": [
  {
   "cell_type": "code",
   "execution_count": 1,
   "id": "ffe751b5-904a-4ff3-9287-cf026f7d1035",
   "metadata": {},
   "outputs": [],
   "source": [
    "num1 = 10\n",
    "num2 = 20\n",
    "add=num1+num2"
   ]
  },
  {
   "cell_type": "code",
   "execution_count": 2,
   "id": "6d077264-2425-4d6d-b082-b4d9bb82fce5",
   "metadata": {},
   "outputs": [
    {
     "name": "stdout",
     "output_type": "stream",
     "text": [
      "30\n"
     ]
    }
   ],
   "source": [
    "print(add)"
   ]
  },
  {
   "cell_type": "code",
   "execution_count": 4,
   "id": "b0beafab-0319-4750-ab94-d9dfee799923",
   "metadata": {},
   "outputs": [
    {
     "name": "stdout",
     "output_type": "stream",
     "text": [
      "The Addition of two numbers\n",
      "The number1: 10\n",
      "The number2: 30\n",
      "Addition of two numbers: 40\n"
     ]
    }
   ],
   "source": [
    "print(\"The Addition of two numbers\")\n",
    "num1 = 10\n",
    "print(\"The number1:\",num1)\n",
    "num2 =30\n",
    "print(\"The number2:\",num2)\n",
    "add=num1+num2\n",
    "print(\"Addition of two numbers:\",num1+num2)\n"
   ]
  },
  {
   "cell_type": "code",
   "execution_count": 10,
   "id": "036bbc15-adea-40c9-b622-6e3f3bb861ff",
   "metadata": {},
   "outputs": [
    {
     "name": "stdin",
     "output_type": "stream",
     "text": [
      "Enter the num1: 10\n"
     ]
    }
   ],
   "source": [
    "num1=int(input(\"Enter the num1:\"))"
   ]
  },
  {
   "cell_type": "code",
   "execution_count": 11,
   "id": "2acaad03-1736-4448-9b3b-db3ff79bf81c",
   "metadata": {},
   "outputs": [
    {
     "name": "stdin",
     "output_type": "stream",
     "text": [
      "Enter the num2: 23\n"
     ]
    }
   ],
   "source": [
    "num2=int(input(\"Enter the num2:\"))"
   ]
  },
  {
   "cell_type": "code",
   "execution_count": 12,
   "id": "1b4d1f5c-2e68-4f9e-a0dc-661e51fcc2e7",
   "metadata": {},
   "outputs": [
    {
     "name": "stdout",
     "output_type": "stream",
     "text": [
      "33\n"
     ]
    }
   ],
   "source": [
    "add=num1+num2\n",
    "print(add)"
   ]
  },
  {
   "cell_type": "code",
   "execution_count": null,
   "id": "31176f8e-f3af-4d74-9644-5ceaa4222f5e",
   "metadata": {},
   "outputs": [],
   "source": []
  }
 ],
 "metadata": {
  "kernelspec": {
   "display_name": "Python [conda env:base] *",
   "language": "python",
   "name": "conda-base-py"
  },
  "language_info": {
   "codemirror_mode": {
    "name": "ipython",
    "version": 3
   },
   "file_extension": ".py",
   "mimetype": "text/x-python",
   "name": "python",
   "nbconvert_exporter": "python",
   "pygments_lexer": "ipython3",
   "version": "3.13.5"
  }
 },
 "nbformat": 4,
 "nbformat_minor": 5
}

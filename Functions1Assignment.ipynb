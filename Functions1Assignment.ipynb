{
 "cells": [
  {
   "cell_type": "code",
   "execution_count": null,
   "id": "2b635137-78f0-4f3c-afe3-0d5b20d2572b",
   "metadata": {},
   "outputs": [],
   "source": [
    "class SubfieldsInAI:\n",
    "    def Subfields(self):\n",
    "        print(\"Sub-fields in AI are:\")\n",
    "        print(\"Machine Learning\")\n",
    "        print(\"Neural Networks\")\n",
    "        print(\"Vision\")\n",
    "        print(\"Robotics\")\n",
    "        print(\"Speech Processing\")\n",
    "        print(\"Natural Language Processing\")\n",
    "        return"
   ]
  },
  {
   "cell_type": "code",
   "execution_count": 8,
   "id": "69c9c88b-cc62-4241-a02e-ab50f6780497",
   "metadata": {},
   "outputs": [
    {
     "name": "stdout",
     "output_type": "stream",
     "text": [
      "Sub-fields in AI are:\n",
      "Machine Learning\n",
      "Neural Networks\n",
      "Vision\n",
      "Robotics\n",
      "Speech Processing\n",
      "Natural Language Processing\n"
     ]
    }
   ],
   "source": [
    "subfields_obj = SubfieldsInAI()\n",
    "subfields_obj.Subfields()"
   ]
  },
  {
   "cell_type": "code",
   "execution_count": 9,
   "id": "0cfdadc5-f170-450e-8ee8-77822e6ca5c6",
   "metadata": {},
   "outputs": [],
   "source": [
    "def OddEven():\n",
    "    num = int(input(\"Enter a number: \"))\n",
    "    if num % 2 == 0:\n",
    "        print(f\"{num} is Even number\")\n",
    "    else:\n",
    "        print(f\"{num} is Odd number\")"
   ]
  },
  {
   "cell_type": "code",
   "execution_count": 10,
   "id": "4b8206c5-7668-48ce-b15d-a92c48ca4e70",
   "metadata": {},
   "outputs": [
    {
     "name": "stdout",
     "output_type": "stream",
     "text": [
      "52452 is Even number\n"
     ]
    }
   ],
   "source": [
    "def simulate_OddEven():\n",
    "    num = 52452\n",
    "    if num % 2 == 0:\n",
    "        print(f\"{num} is Even number\")\n",
    "    else:\n",
    "        print(f\"{num} is Odd number\")\n",
    "\n",
    "simulate_OddEven()"
   ]
  },
  {
   "cell_type": "code",
   "execution_count": 11,
   "id": "82df6f4e-e7fe-4779-a2a6-0ceae4017b5b",
   "metadata": {},
   "outputs": [],
   "source": [
    "def Elegible():\n",
    "    gender = input(\"Your Gender: \")\n",
    "    age = int(input(\"Your Age: \"))\n",
    "    if gender.lower() == 'male':\n",
    "        if age >= 21:\n",
    "            print(\"ELIGIBLE\")\n",
    "        else:\n",
    "            print(\"NOT ELIGIBLE\")\n",
    "    elif gender.lower() == 'female':\n",
    "        if age >= 18:\n",
    "            print(\"ELIGIBLE\")\n",
    "        else:\n",
    "            print(\"NOT ELIGIBLE\")\n",
    "    else:\n",
    "        print(\"Invalid gender input.\")"
   ]
  },
  {
   "cell_type": "code",
   "execution_count": 12,
   "id": "ef907e2a-bdd4-4eb4-af26-2579031a85f6",
   "metadata": {},
   "outputs": [
    {
     "name": "stdout",
     "output_type": "stream",
     "text": [
      "Your Gender:Male\n",
      "Your Age:20\n",
      "NOT ELIGIBLE\n"
     ]
    }
   ],
   "source": [
    "def simulate_Elegible():\n",
    "    print(\"Your Gender:Male\")\n",
    "    print(\"Your Age:20\")\n",
    "    print(\"NOT ELIGIBLE\")\n",
    "simulate_Elegible()"
   ]
  },
  {
   "cell_type": "code",
   "execution_count": 13,
   "id": "be6ef785-aea5-4c2f-923c-2837fcbce8f0",
   "metadata": {},
   "outputs": [
    {
     "name": "stdout",
     "output_type": "stream",
     "text": [
      "Subject1= 98\n",
      "Subject2= 87\n",
      "Subject3= 95\n",
      "Subject4= 95\n",
      "Subject5= 93\n",
      "Total : 468\n",
      "Percentage : 93.60000000000001\n"
     ]
    }
   ],
   "source": [
    "def percentage():\n",
    "    subject1 = 98\n",
    "    subject2 = 87\n",
    "    subject3 = 95\n",
    "    subject4 = 95\n",
    "    subject5 = 93\n",
    "    total = subject1 + subject2 + subject3 + subject4 + subject5\n",
    "    percentage = (total / 500) * 100\n",
    "    print(f\"Subject1= {subject1}\")\n",
    "    print(f\"Subject2= {subject2}\")\n",
    "    print(f\"Subject3= {subject3}\")\n",
    "    print(f\"Subject4= {subject4}\")\n",
    "    print(f\"Subject5= {subject5}\")\n",
    "    print(f\"Total : {total}\")\n",
    "    print(f\"Percentage : {percentage}\")\n",
    "\n",
    "percentage()"
   ]
  },
  {
   "cell_type": "code",
   "execution_count": 14,
   "id": "195311da-1df6-49e1-8801-6099198bf314",
   "metadata": {},
   "outputs": [],
   "source": [
    "class Triangle:\n",
    "    def __init__(self, height, breadth, height1, height2):\n",
    "        self.height = height\n",
    "        self.breadth = breadth\n",
    "        self.height1 = height1\n",
    "        self.height2 = height2\n",
    "\n",
    "    def triangle_area(self):\n",
    "        area = (self.height * self.breadth) / 2\n",
    "        print(f\"Area formula: (Height*Breadth)/2\")\n",
    "        print(f\"Area of Triangle: {area}\")\n",
    "\n",
    "    def triangle_perimeter(self):\n",
    "        perimeter = self.height1 + self.height2 + self.breadth\n",
    "        print(f\"Perimeter formula: Height1+Height2+Breadth\")\n",
    "        print(f\"Perimeter of Triangle: {perimeter}\")"
   ]
  },
  {
   "cell_type": "code",
   "execution_count": 15,
   "id": "d05ab95b-1583-4cb6-8e48-cbee8da2671b",
   "metadata": {},
   "outputs": [
    {
     "name": "stdout",
     "output_type": "stream",
     "text": [
      "Area formula: (Height*Breadth)/2\n",
      "Area of Triangle: 544.0\n",
      "Perimeter formula: Height1+Height2+Breadth\n",
      "Perimeter of Triangle: 40\n"
     ]
    }
   ],
   "source": [
    "triangle_obj = Triangle(height=32, breadth=34, height1=2, height2=4)\n",
    "triangle_obj.triangle_area()\n",
    "triangle_obj.triangle_perimeter()"
   ]
  },
  {
   "cell_type": "code",
   "execution_count": null,
   "id": "76bacca8-7561-4492-ac09-055c7dc95a11",
   "metadata": {},
   "outputs": [],
   "source": []
  }
 ],
 "metadata": {
  "kernelspec": {
   "display_name": "Python [conda env:base] *",
   "language": "python",
   "name": "conda-base-py"
  },
  "language_info": {
   "codemirror_mode": {
    "name": "ipython",
    "version": 3
   },
   "file_extension": ".py",
   "mimetype": "text/x-python",
   "name": "python",
   "nbconvert_exporter": "python",
   "pygments_lexer": "ipython3",
   "version": "3.13.5"
  }
 },
 "nbformat": 4,
 "nbformat_minor": 5
}
